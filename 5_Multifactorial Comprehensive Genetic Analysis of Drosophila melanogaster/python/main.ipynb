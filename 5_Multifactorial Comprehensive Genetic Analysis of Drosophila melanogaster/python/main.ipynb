{
 "cells": [
  {
   "cell_type": "code",
   "execution_count": 1,
   "id": "initial_id",
   "metadata": {
    "ExecuteTime": {
     "end_time": "2023-12-22T14:45:50.280875200Z",
     "start_time": "2023-12-22T14:45:50.199750800Z"
    }
   },
   "outputs": [],
   "source": [
    "import os\n",
    "import pandas as pd\n",
    "import numpy as np\n",
    "import flydataclass as fc\n",
    "from scipy.stats import chi2_contingency\n",
    "from itertools import product\n",
    "import seaborn as sns\n",
    "import matplotlib.pyplot as plt\n",
    "\n",
    "def convert_pvalue_to_asterisks(pvalue):\n",
    "    if pvalue <= 0.0001:\n",
    "        return \"****\"\n",
    "    elif pvalue <= 0.001:\n",
    "        return \"***\"\n",
    "    elif pvalue <= 0.01:\n",
    "        return \"**\"\n",
    "    elif pvalue <= 0.05:\n",
    "        return \"*\"\n",
    "    return \"ns\"\n",
    "\n",
    "\n",
    "f1_dir = \"./data/f1\"\n",
    "f2_dir = \"./data/f2\""
   ]
  },
  {
   "cell_type": "markdown",
   "id": "aa8ad05cc14deee8",
   "metadata": {
    "collapsed": false,
    "jp-MarkdownHeadingCollapsed": true
   },
   "source": [
    "# Load data\n",
    "* F1"
   ]
  },
  {
   "cell_type": "code",
   "execution_count": 2,
   "id": "da528bca014c61e",
   "metadata": {
    "collapsed": false,
    "ExecuteTime": {
     "end_time": "2023-12-22T14:45:50.391807600Z",
     "start_time": "2023-12-22T14:45:50.287877200Z"
    }
   },
   "outputs": [],
   "source": [
    "csv_files = [\n",
    "    file for file in os.listdir(f1_dir) if file.endswith('.csv')\n",
    "]\n",
    "\n",
    "f1_data = []\n",
    "for file in csv_files:\n",
    "    if file == \"data_全体汇总.csv\":\n",
    "        continue\n",
    "    file_path = os.path.join(f1_dir, file)\n",
    "    df = pd.read_csv(file_path)\n",
    "    numpy_df = df.to_numpy()\n",
    "    for row in numpy_df[2:, ]:\n",
    "        f1_data.append(fc.GroupData(row, 1))"
   ]
  },
  {
   "cell_type": "markdown",
   "id": "f0f4ac20ead1c865",
   "metadata": {
    "collapsed": false
   },
   "source": [
    "* F2"
   ]
  },
  {
   "cell_type": "code",
   "execution_count": 3,
   "id": "fc02ac78429e674a",
   "metadata": {
    "collapsed": false,
    "ExecuteTime": {
     "end_time": "2023-12-22T14:45:50.851133500Z",
     "start_time": "2023-12-22T14:45:50.396810Z"
    }
   },
   "outputs": [],
   "source": [
    "csv_files = []\n",
    "for item in os.listdir(f2_dir):\n",
    "    item_path = os.path.join(f2_dir, item)\n",
    "    if os.path.isdir(item_path):\n",
    "        for file in os.listdir(item_path):\n",
    "            if file.endswith(\".csv\"):\n",
    "                filr_path = os.path.join(item_path, file)\n",
    "                csv_files.append(filr_path)\n",
    "\n",
    "f2_data = []\n",
    "for file in csv_files:\n",
    "    if file == \"./data/f2\\\\all data\\\\合计.csv\":\n",
    "        continue\n",
    "    df = pd.read_csv(file)\n",
    "    df = df.iloc[2:10, 2:6].join(df.iloc[2:10, 9:13])\n",
    "    numpy_df = df.to_numpy()\n",
    "    f2_data.append(fc.GroupData(numpy_df, 2))"
   ]
  },
  {
   "cell_type": "markdown",
   "id": "cfc7417bb80ae582",
   "metadata": {
    "collapsed": false,
    "jp-MarkdownHeadingCollapsed": true
   },
   "source": [
    "# filter data"
   ]
  },
  {
   "cell_type": "code",
   "execution_count": 4,
   "id": "290023046aea11a3",
   "metadata": {
    "collapsed": false,
    "ExecuteTime": {
     "end_time": "2023-12-22T14:45:50.911736200Z",
     "start_time": "2023-12-22T14:45:50.853133900Z"
    }
   },
   "outputs": [
    {
     "name": "stdout",
     "output_type": "stream",
     "text": [
      "f1_orth_valid: 73\n",
      "f1_comp_valid: 91\n",
      "f2_both_valid: 64\n"
     ]
    }
   ],
   "source": [
    "f1_orth_valid = 0\n",
    "f1_comp_valid = 0\n",
    "f2_valid = 0\n",
    "\n",
    "for group_data in f1_data:\n",
    "    if group_data.filter_data(\"orth\"):\n",
    "        f1_orth_valid = f1_orth_valid + 1\n",
    "    if group_data.filter_data(\"comp\"):\n",
    "        f1_comp_valid = f1_comp_valid + 1\n",
    "print(\"f1_orth_valid:\", f1_orth_valid)\n",
    "print(\"f1_comp_valid:\", f1_comp_valid)\n",
    "\n",
    "for group_data in f2_data:\n",
    "    if group_data.filter_data():\n",
    "        f2_valid = f2_valid + 1\n",
    "print(\"f2_both_valid:\", f2_valid)"
   ]
  },
  {
   "cell_type": "markdown",
   "id": "3cc96c1f8ddecd24",
   "metadata": {
    "collapsed": false
   },
   "source": [
    "# data analysis\n",
    "1.F1代中正交反交分别对数据进行测算并卡平方检验。理想数据是应该得到的各基因型比例与所拿到的果蝇总数相乘之积，再与实际各表型数据进行检验。\n",
    "* 获取各表型数据"
   ]
  },
  {
   "cell_type": "code",
   "execution_count": 5,
   "id": "27e3b44e03697aa3",
   "metadata": {
    "collapsed": false,
    "ExecuteTime": {
     "end_time": "2023-12-22T14:45:50.999180Z",
     "start_time": "2023-12-22T14:45:50.920737100Z"
    }
   },
   "outputs": [
    {
     "name": "stdout",
     "output_type": "stream",
     "text": [
      "f1代正交数据\n",
      "* 正交数据总数： 2973\n",
      "* 正交数据各表型数据：\n",
      "     体色: 灰 2973 , 黑 0\n",
      "     眼色: 红 1618 , 白 1355\n",
      "     翅型: 长 1618 , 短 1355\n",
      "     刚毛: 直 1618 , 卷 1355\n",
      "     性别: 雌 1618 , 雄 1355\n",
      "     灰红直长雌 1618 , 灰白焦小雄 1355\n",
      "f1代反交数据\n",
      "* 反交数据总数： 6379\n",
      "* 反交数据各表型数据：\n",
      "     体色: 灰 6379 , 黑 0\n",
      "     眼色: 红 6379 , 白 0\n",
      "     翅型: 长 6379 , 短 0\n",
      "     刚毛: 直 6379 , 卷 0\n",
      "     性别: 雌 3223 , 雄 3156\n",
      "     灰红长直雌 3223 , 灰红长直雄 3156\n"
     ]
    }
   ],
   "source": [
    "print(\"f1代正交数据\")\n",
    "orth_sum = 0\n",
    "for group in f1_data:\n",
    "    orth_sum = group.get_count(\"orth\") + orth_sum\n",
    "    \n",
    "print(\"* 正交数据总数：\", orth_sum)\n",
    "print(\"* 正交数据各表型数据：\")\n",
    "orth_grey_body = orth_black_body = 0\n",
    "orth_red_eye = orth_white_eye = 0\n",
    "orth_long_wing = orth_short_wing = 0\n",
    "orth_straight_bristle = orth_curly_bristle = 0\n",
    "orth_female = orth_male = 0\n",
    "f1_orth_female = f1_orth_male = 0 # 灰红直长雌, 灰白焦小雄\n",
    "for group in f1_data:\n",
    "    orth_grey_body = orth_grey_body + group.get_body_color_count(\"grey\", \"orth\")\n",
    "    orth_black_body = orth_black_body + group.get_body_color_count(\"black\", \"orth\")\n",
    "    orth_red_eye = orth_red_eye + group.get_eye_color_count(\"red\", \"orth\")\n",
    "    orth_white_eye = orth_white_eye + group.get_eye_color_count(\"white\", \"orth\")\n",
    "    orth_long_wing = orth_long_wing + group.get_wing_shape_count(\"long\", \"orth\")\n",
    "    orth_short_wing = orth_short_wing + group.get_wing_shape_count(\"short\", \"orth\")\n",
    "    orth_straight_bristle = orth_straight_bristle + group.get_bristle_type_count(\"straight\", \"orth\")\n",
    "    orth_curly_bristle = orth_curly_bristle + group.get_bristle_type_count(\"curly\", \"orth\")\n",
    "    orth_female = orth_female + group.get_gender_count(\"female\", \"orth\")\n",
    "    orth_male = orth_male + group.get_gender_count(\"male\", \"orth\")\n",
    "    f1_orth_female = f1_orth_female + group.get_specific_count([1, 1, 1, 1, 1], \"orth\")\n",
    "    f1_orth_male = f1_orth_male + group.get_specific_count([1, 0, 0, 0, 0], \"orth\")\n",
    "    \n",
    "print(\"     体色: 灰\", orth_grey_body, \", 黑\", orth_black_body)\n",
    "print(\"     眼色: 红\", orth_red_eye, \", 白\", orth_white_eye)\n",
    "print(\"     翅型: 长\", orth_long_wing, \", 短\", orth_short_wing)\n",
    "print(\"     刚毛: 直\", orth_straight_bristle, \", 卷\", orth_curly_bristle)\n",
    "print(\"     性别: 雌\", orth_female, \", 雄\", orth_male)\n",
    "print(\"     灰红直长雌\", f1_orth_female, \", 灰白焦小雄\", f1_orth_male)\n",
    "\n",
    "print(\"f1代反交数据\")\n",
    "comp_sum = 0\n",
    "for group in f1_data:\n",
    "    comp_sum = group.get_count(\"comp\") + comp_sum\n",
    "    \n",
    "print(\"* 反交数据总数：\", comp_sum)\n",
    "print(\"* 反交数据各表型数据：\")\n",
    "comp_grey_body = comp_black_body = 0\n",
    "comp_red_eye = comp_white_eye = 0\n",
    "comp_long_wing = comp_short_wing = 0\n",
    "comp_straight_bristle = comp_curly_bristle = 0\n",
    "comp_female = comp_male = 0\n",
    "f1_comp_female = f1_comp_male = 0 # 灰红直长雌, 灰红直长雄\n",
    "\n",
    "for group in f1_data:\n",
    "    comp_grey_body = comp_grey_body + group.get_body_color_count(\"grey\", \"comp\")\n",
    "    comp_black_body = comp_black_body + group.get_body_color_count(\"black\", \"comp\")\n",
    "    comp_red_eye = comp_red_eye + group.get_eye_color_count(\"red\", \"comp\")\n",
    "    comp_white_eye = comp_white_eye + group.get_eye_color_count(\"white\", \"comp\")\n",
    "    comp_long_wing = comp_long_wing + group.get_wing_shape_count(\"long\", \"comp\")\n",
    "    comp_short_wing = comp_short_wing + group.get_wing_shape_count(\"short\", \"comp\")\n",
    "    comp_straight_bristle = comp_straight_bristle + group.get_bristle_type_count(\"straight\", \"comp\")\n",
    "    comp_curly_bristle = comp_curly_bristle + group.get_bristle_type_count(\"curly\", \"comp\")\n",
    "    comp_female = comp_female + group.get_gender_count(\"female\", \"comp\")\n",
    "    comp_male = comp_male + group.get_gender_count(\"male\", \"comp\")\n",
    "    f1_comp_male = f1_comp_male + group.get_specific_count([1, 1, 1, 1, 0], \"comp\")\n",
    "    f1_comp_female = f1_comp_female + group.get_specific_count([1, 1, 1, 1, 1], \"comp\")\n",
    "    \n",
    "print(\"     体色: 灰\", comp_grey_body, \", 黑\", comp_black_body)\n",
    "print(\"     眼色: 红\", comp_red_eye, \", 白\", comp_white_eye)\n",
    "print(\"     翅型: 长\", comp_long_wing, \", 短\", comp_short_wing)\n",
    "print(\"     刚毛: 直\", comp_straight_bristle, \", 卷\", comp_curly_bristle)\n",
    "print(\"     性别: 雌\", comp_female, \", 雄\", comp_male)\n",
    "print(\"     灰红长直雌\", f1_comp_female, \", 灰红长直雄\", f1_comp_male)"
   ]
  },
  {
   "cell_type": "markdown",
   "id": "9cab75732e764794",
   "metadata": {
    "collapsed": false
   },
   "source": [
    "* 卡平方检验"
   ]
  },
  {
   "cell_type": "code",
   "execution_count": 6,
   "id": "ab4fe11752aa81e4",
   "metadata": {
    "collapsed": false,
    "ExecuteTime": {
     "end_time": "2023-12-22T14:45:51.083791400Z",
     "start_time": "2023-12-22T14:45:50.995183800Z"
    }
   },
   "outputs": [
    {
     "name": "stdout",
     "output_type": "stream",
     "text": [
      "f1正交卡方检验结果：\n",
      "    卡方值： 11.479067341269548\n",
      "    p值：\n",
      "    自由度： 1\n",
      "f1反交卡方检验结果：\n",
      "    卡方值： 0.33117389293543964\n",
      "    p值： 0.5649686736181281\n",
      "    自由度： 1\n"
     ]
    }
   ],
   "source": [
    "observed_data = np.array([f1_orth_female, f1_orth_male])\n",
    "expected_data = np.array([orth_sum * 0.5, orth_sum * 0.5])\n",
    "chi2, p, dof, expected = chi2_contingency([observed_data, expected_data])\n",
    "print(\"f1正交卡方检验结果：\")\n",
    "print(\"    卡方值：\", chi2)\n",
    "print(\"    p值：\", )\n",
    "print(\"    自由度：\", dof)\n",
    "\n",
    "observed_data = np.array([f1_comp_female, f1_comp_male])\n",
    "expected_data = np.array([comp_sum * 0.5, comp_sum * 0.5])\n",
    "chi2, p, dof, expected = chi2_contingency([observed_data, expected_data])\n",
    "print(\"f1反交卡方检验结果：\")\n",
    "print(\"    卡方值：\", chi2)\n",
    "print(\"    p值：\", p)\n",
    "print(\"    自由度：\", dof)"
   ]
  },
  {
   "cell_type": "markdown",
   "id": "6d8be31aa434a261",
   "metadata": {
    "collapsed": false
   },
   "source": [
    "2.F2代中正交反交分别都要有以下数据分析：\n",
    "①基因的分离定律：选择体色，计算和验证（注：正反交结果应相似）；"
   ]
  },
  {
   "cell_type": "markdown",
   "id": "c344010b396856a4",
   "metadata": {
    "collapsed": false
   },
   "source": [
    "* 获取体色数据"
   ]
  },
  {
   "cell_type": "code",
   "execution_count": 7,
   "id": "4751e2502f2b100a",
   "metadata": {
    "collapsed": false,
    "ExecuteTime": {
     "end_time": "2023-12-22T14:45:51.090779600Z",
     "start_time": "2023-12-22T14:45:51.011181900Z"
    }
   },
   "outputs": [
    {
     "name": "stdout",
     "output_type": "stream",
     "text": [
      "f2总数据：\n",
      "    正交总数： 8958\n",
      "    反交总数： 4716\n",
      "f2正交体色数据：\n",
      "    灰 6880 , 黑 2078\n",
      "f2反交体色数据：\n",
      "    灰 3554 , 黑 1162\n"
     ]
    }
   ],
   "source": [
    "orth_grey_body = orth_black_body = 0\n",
    "comp_grey_body = comp_black_body = 0\n",
    "orth_sum = comp_sum = 0\n",
    "for group in f2_data:\n",
    "    orth_grey_body = orth_grey_body + group.get_body_color_count(\"grey\", \"orth\")\n",
    "    orth_black_body = orth_black_body + group.get_body_color_count(\"black\", \"orth\")\n",
    "    comp_grey_body = comp_grey_body + group.get_body_color_count(\"grey\", \"comp\")\n",
    "    comp_black_body = comp_black_body + group.get_body_color_count(\"black\", \"comp\")\n",
    "    orth_sum = orth_sum + group.get_count(\"orth\")\n",
    "    comp_sum = comp_sum + group.get_count(\"comp\")\n",
    "\n",
    "print(\"f2总数据：\")\n",
    "print(\"    正交总数：\", orth_sum)\n",
    "print(\"    反交总数：\", comp_sum)\n",
    "print(\"f2正交体色数据：\")\n",
    "print(\"    灰\", orth_grey_body, \", 黑\", orth_black_body)\n",
    "print(\"f2反交体色数据：\")\n",
    "print(\"    灰\", comp_grey_body, \", 黑\", comp_black_body)"
   ]
  },
  {
   "cell_type": "markdown",
   "id": "7b2afaf904d07824",
   "metadata": {
    "collapsed": false
   },
   "source": [
    "* 卡平方检验"
   ]
  },
  {
   "cell_type": "code",
   "execution_count": 8,
   "id": "e8ec803aab2971e1",
   "metadata": {
    "collapsed": false,
    "ExecuteTime": {
     "end_time": "2023-12-22T14:45:51.092779800Z",
     "start_time": "2023-12-22T14:45:51.046183400Z"
    }
   },
   "outputs": [
    {
     "name": "stdout",
     "output_type": "stream",
     "text": [
      "f2正交卡方检验结果：\n",
      "    卡方值： 7.860818618252946\n",
      "    p值： 0.005051751529436341\n",
      "    自由度： 1\n",
      "f2反交卡方检验结果：\n",
      "    卡方值： 0.14545707776087888\n",
      "    p值： 0.7029151001828229\n",
      "    自由度： 1\n",
      "f2正反交比较卡方检验结果：\n",
      "    卡方值： 3.475720447548735\n",
      "    p值： 0.062275598497870295\n",
      "    自由度： 1\n"
     ]
    }
   ],
   "source": [
    "observed_orth_data = np.array([orth_grey_body, orth_black_body])\n",
    "expected_data = np.array([orth_sum * 0.75, orth_sum * 0.25])\n",
    "chi2, p, dof, expected = chi2_contingency([observed_orth_data, expected_data])\n",
    "print(\"f2正交卡方检验结果：\")\n",
    "print(\"    卡方值：\", chi2)\n",
    "print(\"    p值：\", p)\n",
    "print(\"    自由度：\", dof)\n",
    "\n",
    "observed_comp_data = np.array([comp_grey_body, comp_black_body])\n",
    "expected_data = np.array([comp_sum * 0.75, comp_sum * 0.25])\n",
    "chi2, p, dof, expected = chi2_contingency([observed_comp_data, expected_data])\n",
    "print(\"f2反交卡方检验结果：\")\n",
    "print(\"    卡方值：\", chi2)\n",
    "print(\"    p值：\", p)\n",
    "print(\"    自由度：\", dof)\n",
    "\n",
    "chi2, p, dof, expected = chi2_contingency([observed_orth_data, observed_comp_data])\n",
    "print(\"f2正反交比较卡方检验结果：\")\n",
    "print(\"    卡方值：\", chi2)\n",
    "print(\"    p值：\", p)\n",
    "print(\"    自由度：\", dof)\n"
   ]
  },
  {
   "cell_type": "code",
   "execution_count": 9,
   "id": "74b518b642773415",
   "metadata": {
    "collapsed": false,
    "ExecuteTime": {
     "end_time": "2023-12-22T14:45:51.092779800Z",
     "start_time": "2023-12-22T14:45:51.057182700Z"
    }
   },
   "outputs": [],
   "source": [
    "#TODO: 画图\n",
    "#df = pd.DataFrame([\n",
    "#    [orth_grey_body], [orth_black_body],\n",
    "#    [comp_grey_body], [comp_black_body]\n",
    "#], columns = [\"grey_orth\", \"black_orth\", \"grey_comp\", \"black_comp\"])\n",
    "#\n",
    "#print(df)\n",
    "#\n",
    "#plt.rcParams['font.family'] = ['Times New Roman']\n",
    "#plt.rcParams[\"axes.labelsize\"] = 18\n",
    "#palette=['#0073C2FF','#EFC000FF']\n",
    "#\n",
    "#fig,ax = plt.subplots(figsize=(5,4),dpi=100,facecolor=\"w\")\n",
    "#ax = (sns.barplot(data=df))\n",
    "#                #,palette)=palette,\n",
    "#                # estimator=np.mean,ci=\"sd\", capsize=.1,#errwidth=1,errcolor=\"k\",\n",
    "#                # ax=ax,\n",
    "#                 #**{\"edgecolor\":\"k\",\"linewidth\":1})"
   ]
  },
  {
   "cell_type": "markdown",
   "id": "93f52ff5700c16f3",
   "metadata": {
    "collapsed": false
   },
   "source": [
    "②基因的自由组合定律：选择体色和另外三种（眼色、翅形、刚毛）中任一种，计算和验证（注：正反交结果应不同）；"
   ]
  },
  {
   "cell_type": "code",
   "execution_count": 10,
   "id": "cdada5e2cdf6c9d5",
   "metadata": {
    "collapsed": false,
    "ExecuteTime": {
     "end_time": "2023-12-22T14:45:51.187580300Z",
     "start_time": "2023-12-22T14:45:51.099778600Z"
    }
   },
   "outputs": [
    {
     "name": "stdout",
     "output_type": "stream",
     "text": [
      "f2正交体色+眼色\n",
      "3696 3184 1154 924\n",
      "f2 orth 卡方检验结果：\n",
      "    卡方值： 40.03180911324566\n",
      "    p值： 1.0490941038265486e-08\n",
      "    自由度： 3\n",
      "f2正交体色+翅形\n",
      "3768 3112 1159 919\n",
      "f2 orth 卡方检验结果：\n",
      "    卡方值： 53.33207885517564\n",
      "    p值： 1.5575649932252824e-11\n",
      "    自由度： 3\n",
      "f2正交体色+刚毛\n",
      "3785 3095 1173 905\n",
      "f2 orth 卡方检验结果：\n",
      "    卡方值： 60.20447730475534\n",
      "    p值： 5.315697746332513e-13\n",
      "    自由度： 3\n",
      "f2反交体色+眼色\n",
      "2789 765 873 289\n",
      "f2 comp 卡方检验结果：\n",
      "    卡方值： 12.162517249272335\n",
      "    p值： 0.0068466817573012975\n",
      "    自由度： 3\n",
      "f2反交体色+翅形\n",
      "2750 804 814 348\n",
      "f2 comp 卡方检验结果：\n",
      "    卡方值： 12.882726587362619\n",
      "    p值： 0.0048972031146906694\n",
      "    自由度： 3\n",
      "f2反交体色+刚毛\n",
      "2706 848 847 315\n",
      "f2 comp 卡方检验结果：\n",
      "    卡方值： 2.7617227233250428\n",
      "    p值： 0.4298398607068732\n",
      "    自由度： 3\n",
      "f2正反交比较：\n",
      "3696 3184 1154 924\n",
      "2789 765 873 289\n",
      "f2正反交比较卡方检验结果：\n",
      "    卡方值： 734.7538853151445\n",
      "    p值： 6.106915421890216e-159\n",
      "    自由度： 3\n",
      "3768 3112 1159 919\n",
      "2750 804 814 348\n",
      "f2正反交比较卡方检验结果：\n",
      "    卡方值： 576.4429655953361\n",
      "    p值： 1.2884576302109192e-124\n",
      "    自由度： 3\n",
      "3785 3095 1173 905\n",
      "2706 848 847 315\n",
      "f2正反交比较卡方检验结果：\n",
      "    卡方值： 533.1410294090109\n",
      "    p值： 3.133789756379808e-115\n",
      "    自由度： 3\n"
     ]
    }
   ],
   "source": [
    "#  检测自由组合函数\n",
    "def f2_check_free_combination(trait_list, type):\n",
    "    count_1 = count_2 = count_3 = count_4 = 0\n",
    "    for group in f2_data:\n",
    "        count_1 = count_1 + group.get_motify_specific_count(trait_list, [1,1], type)\n",
    "        count_2 = count_2 + group.get_motify_specific_count(trait_list, [1,0], type)\n",
    "        count_3 = count_3 + group.get_motify_specific_count(trait_list, [0,1], type)\n",
    "        count_4 = count_4 + group.get_motify_specific_count(trait_list, [0,0], type)\n",
    "    print(count_1, count_2, count_3, count_4)\n",
    "    sum = count_1 + count_2 + count_3 + count_4\n",
    "    observed_data = np.array([count_1, count_2, count_3, count_4])\n",
    "    if type == \"orth\":\n",
    "        expected_data = np.array([sum * 3 / 8, sum * 3 / 8, sum * 1 / 8, sum * 1 / 8])\n",
    "    elif type == \"comp\":\n",
    "        expected_data = np.array([sum * 9 / 16, sum * 3 / 16, sum * 3 / 16, sum * 1 / 16])\n",
    "    else:\n",
    "        print(\"type error\")\n",
    "        return\n",
    "    chi2, p, dof, expected = chi2_contingency([observed_data, expected_data])\n",
    "    print(\"f2\", type, \"卡方检验结果：\")\n",
    "    print(\"    卡方值：\", chi2)\n",
    "    print(\"    p值：\", p)\n",
    "    print(\"    自由度：\", dof)\n",
    "\n",
    "# f2 正交\n",
    "######## 体色+眼色 ########\n",
    "print(\"f2正交体色+眼色\")\n",
    "f2_check_free_combination([1,1,0,0,0], \"orth\")\n",
    "######## 体色+翅形 ########\n",
    "print(\"f2正交体色+翅形\")\n",
    "f2_check_free_combination([1,0,1,0,0], \"orth\")\n",
    "######## 体色+刚毛 ########\n",
    "print(\"f2正交体色+刚毛\")\n",
    "f2_check_free_combination([1,0,0,1,0], \"orth\")\n",
    "# f2 反交\n",
    "######## 体色+眼色 ########\n",
    "print(\"f2反交体色+眼色\")\n",
    "f2_check_free_combination([1,1,0,0,0], \"comp\")\n",
    "######## 体色+翅形 ########\n",
    "print(\"f2反交体色+翅形\")\n",
    "f2_check_free_combination([1,0,1,0,0], \"comp\")\n",
    "######## 体色+刚毛 ########\n",
    "print(\"f2反交体色+刚毛\")\n",
    "f2_check_free_combination([1,0,0,1,0], \"comp\")\n",
    "\n",
    "# 正反交比较\n",
    "def orth_comp_compare(trait_list):\n",
    "    count_1 = count_2 = count_3 = count_4 = 0\n",
    "    for group in f2_data:\n",
    "        count_1 = count_1 + group.get_motify_specific_count(trait_list, [1,1], \"orth\")\n",
    "        count_2 = count_2 + group.get_motify_specific_count(trait_list, [1,0], \"orth\")\n",
    "        count_3 = count_3 + group.get_motify_specific_count(trait_list, [0,1], \"orth\")\n",
    "        count_4 = count_4 + group.get_motify_specific_count(trait_list, [0,0], \"orth\")\n",
    "    print(count_1, count_2, count_3, count_4)\n",
    "    sum = count_1 + count_2 + count_3 + count_4\n",
    "    observed_orth_data = np.array([count_1, count_2, count_3, count_4])\n",
    "    \n",
    "    count_1 = count_2 = count_3 = count_4 = 0\n",
    "    for group in f2_data:\n",
    "        count_1 = count_1 + group.get_motify_specific_count(trait_list, [1,1], \"comp\")\n",
    "        count_2 = count_2 + group.get_motify_specific_count(trait_list, [1,0], \"comp\")\n",
    "        count_3 = count_3 + group.get_motify_specific_count(trait_list, [0,1], \"comp\")\n",
    "        count_4 = count_4 + group.get_motify_specific_count(trait_list, [0,0], \"comp\")\n",
    "    print(count_1, count_2, count_3, count_4)\n",
    "    sum = count_1 + count_2 + count_3 + count_4\n",
    "    observed_comp_data = np.array([count_1, count_2, count_3, count_4])\n",
    "    \n",
    "    chi2, p, dof, expected = chi2_contingency([observed_orth_data, observed_comp_data])\n",
    "    print(\"f2正反交比较卡方检验结果：\")\n",
    "    print(\"    卡方值：\", chi2)\n",
    "    print(\"    p值：\", p)\n",
    "    print(\"    自由度：\", dof)\n",
    "\n",
    "print(\"f2正反交比较：\")\n",
    "######## 体色+眼色 ########\n",
    "orth_comp_compare([1,1,0,0,0])\n",
    "\n",
    "######## 体色+翅形 ########\n",
    "orth_comp_compare([1,0,1,0,0])\n",
    "\n",
    "######## 体色+刚毛 ########\n",
    "orth_comp_compare([1,0,0,1,0])\n"
   ]
  },
  {
   "cell_type": "markdown",
   "id": "260f2b99433e7a3e",
   "metadata": {
    "collapsed": false
   },
   "source": [
    "③基因的伴性遗传定律：选择眼色、翅形、刚毛中任一种，计算和验证（注：正反交结果应不同）；"
   ]
  },
  {
   "cell_type": "code",
   "execution_count": 11,
   "id": "f5458f3e10e24bbe",
   "metadata": {
    "collapsed": false,
    "ExecuteTime": {
     "end_time": "2023-12-22T14:45:51.341480200Z",
     "start_time": "2023-12-22T14:45:51.194565100Z"
    }
   },
   "outputs": [
    {
     "name": "stdout",
     "output_type": "stream",
     "text": [
      "f2正交\n",
      "2725 2125 2197 1911\n",
      "f2 orth 卡方检验结果：\n",
      "    卡方值： 900.3451975992647\n",
      "    p值： 7.449902488242646e-195\n",
      "    自由度： 3\n",
      "2775 2152 2147 1884\n",
      "f2 orth 卡方检验结果：\n",
      "    卡方值： 837.5715348583985\n",
      "    p值： 3.073411506383234e-181\n",
      "    自由度： 3\n",
      "2787 2171 2135 1865\n",
      "f2 orth 卡方检验结果：\n",
      "    卡方值： 811.3555007126258\n",
      "    p值： 1.49097900294701e-175\n",
      "    自由度： 3\n",
      "f2反交\n",
      "2629 1033 174 880\n",
      "f2 comp 卡方检验结果：\n",
      "    卡方值： 779.9019068356743\n",
      "    p值： 9.884815350472852e-169\n",
      "    自由度： 3\n",
      "2554 1010 249 903\n",
      "f2 comp 卡方检验结果：\n",
      "    卡方值： 675.199827298313\n",
      "    p值： 5.006317855322292e-146\n",
      "    自由度： 3\n",
      "2551 1002 252 911\n",
      "f2 comp 卡方检验结果：\n",
      "    卡方值： 676.1074354662653\n",
      "    p值： 3.182179293718239e-146\n",
      "    自由度： 3\n",
      "f2正反交比较：\n",
      "2725 2125 2197 1911\n",
      "2629 1033 174 880\n",
      "f2正反交比较卡方检验结果：\n",
      "    卡方值： 1294.9032708561763\n",
      "    p值： 1.8781105821410635e-280\n",
      "    自由度： 3\n",
      "2775 2152 2147 1884\n",
      "2554 1010 249 903\n",
      "f2正反交比较卡方检验结果：\n",
      "    卡方值： 1056.093127093375\n",
      "    p值： 1.2203743704923438e-228\n",
      "    自由度： 3\n",
      "2787 2171 2135 1865\n",
      "2551 1002 252 911\n",
      "f2正反交比较卡方检验结果：\n",
      "    卡方值： 1038.3459683524968\n",
      "    p值： 8.641051121750097e-225\n",
      "    自由度： 3\n"
     ]
    }
   ],
   "source": [
    "def f2_check_gender_lingage(trait_list, type):\n",
    "    count_1 = count_2 = count_3 = count_4 = 0\n",
    "    for group in f2_data:\n",
    "        count_1 = count_1 + group.get_motify_specific_count(trait_list, [1,1], type)\n",
    "        count_2 = count_2 + group.get_motify_specific_count(trait_list, [1,0], type)\n",
    "        count_3 = count_3 + group.get_motify_specific_count(trait_list, [0,1], type)\n",
    "        count_4 = count_4 + group.get_motify_specific_count(trait_list, [0,0], type)\n",
    "    print(count_1, count_2, count_3, count_4)\n",
    "    sum = count_1 + count_2 + count_3 + count_4\n",
    "    observed_data = np.array([count_1, count_2, count_3, count_4])\n",
    "    if type == \"orth\":\n",
    "        expected_data = np.array([sum * 0.25, sum * 0.25, sum * 0.25, sum * 0.25])\n",
    "    elif type == \"comp\":\n",
    "        expected_data = np.array([sum * 0.75, sum * 0.25, 0, 0])\n",
    "    else:\n",
    "        print(\"type error\")\n",
    "        return\n",
    "    chi2, p, dof, expected = chi2_contingency([observed_data, expected_data])\n",
    "    print(\"f2\", type, \"卡方检验结果：\")\n",
    "    print(\"    卡方值：\", chi2)\n",
    "    print(\"    p值：\", p)\n",
    "    print(\"    自由度：\", dof)\n",
    "    \n",
    "# f2 正交\n",
    "\n",
    "print(\"f2正交\")\n",
    "######## 眼色 ########\n",
    "f2_check_free_combination([0,1,0,0,1], \"orth\")\n",
    "\n",
    "######## 翅形 ########\n",
    "f2_check_free_combination([0,0,1,0,1], \"orth\")\n",
    "\n",
    "######## 刚毛 ########\n",
    "f2_check_free_combination([0,0,0,1,1], \"orth\")\n",
    "\n",
    "# f2 反交\n",
    "\n",
    "print(\"f2反交\")\n",
    "######## 眼色 ########\n",
    "f2_check_free_combination([0,1,0,0,1], \"comp\")\n",
    "\n",
    "######## 翅形 ########\n",
    "f2_check_free_combination([0,0,1,0,1], \"comp\")\n",
    "\n",
    "######## 刚毛 ########\n",
    "f2_check_free_combination([0,0,0,1,1], \"comp\")\n",
    "\n",
    "# 正反交比较\n",
    "def orth_comp_compare(trait_list):\n",
    "    count_1 = count_2 = count_3 = count_4 = 0\n",
    "    for group in f2_data:\n",
    "        count_1 = count_1 + group.get_motify_specific_count(trait_list, [1,1], \"orth\")\n",
    "        count_2 = count_2 + group.get_motify_specific_count(trait_list, [1,0], \"orth\")\n",
    "        count_3 = count_3 + group.get_motify_specific_count(trait_list, [0,1], \"orth\")\n",
    "        count_4 = count_4 + group.get_motify_specific_count(trait_list, [0,0], \"orth\")\n",
    "    print(count_1, count_2, count_3, count_4)\n",
    "    sum = count_1 + count_2 + count_3 + count_4\n",
    "    observed_orth_data = np.array([count_1, count_2, count_3, count_4])\n",
    "    \n",
    "    count_1 = count_2 = count_3 = count_4 = 0\n",
    "    for group in f2_data:\n",
    "        count_1 = count_1 + group.get_motify_specific_count(trait_list, [1,1], \"comp\")\n",
    "        count_2 = count_2 + group.get_motify_specific_count(trait_list, [1,0], \"comp\")\n",
    "        count_3 = count_3 + group.get_motify_specific_count(trait_list, [0,1], \"comp\")\n",
    "        count_4 = count_4 + group.get_motify_specific_count(trait_list, [0,0], \"comp\")\n",
    "    print(count_1, count_2, count_3, count_4)\n",
    "    sum = count_1 + count_2 + count_3 + count_4\n",
    "    observed_comp_data = np.array([count_1, count_2, count_3, count_4])\n",
    "    \n",
    "    chi2, p, dof, expected = chi2_contingency([observed_orth_data, observed_comp_data])\n",
    "    print(\"f2正反交比较卡方检验结果：\")\n",
    "    print(\"    卡方值：\", chi2)\n",
    "    print(\"    p值：\", p)\n",
    "    print(\"    自由度：\", dof)\n",
    "\n",
    "print(\"f2正反交比较：\")\n",
    "######## 眼色 ########\n",
    "orth_comp_compare([0,1,0,0,1])\n",
    "\n",
    "######## 翅形 ########\n",
    "orth_comp_compare([0,0,1,0,1])\n",
    "\n",
    "######## 刚毛 ########\n",
    "orth_comp_compare([0,0,0,1,1])\n",
    "\n",
    "#TODO: 画图"
   ]
  },
  {
   "cell_type": "markdown",
   "id": "bca3970b38cb0b5f",
   "metadata": {
    "collapsed": false
   },
   "source": [
    "④基因的连锁交换定律：同时选择眼色、翅形、刚毛数据进行计算单交换、双交换、遗传做图（基因位置和图距）、并发系数和干涉，只计算、画图、不验证。"
   ]
  },
  {
   "cell_type": "code",
   "execution_count": 12,
   "id": "87d8a61a84fdbeb",
   "metadata": {
    "collapsed": false,
    "ExecuteTime": {
     "end_time": "2023-12-22T14:45:51.356773900Z",
     "start_time": "2023-12-22T14:45:51.315482100Z"
    }
   },
   "outputs": [
    {
     "name": "stdout",
     "output_type": "stream",
     "text": [
      "\t orth\t comp\n",
      "白小焦雄\t 1218 \t 583\n",
      "白小焦雌\t 1393 \t 82\n",
      "白小直雄\t 96 \t 29\n",
      "白小直雌\t 116 \t 24\n",
      "白长焦雄\t 318 \t 140\n",
      "白长焦雌\t 366 \t 42\n",
      "白长直雄\t 279 \t 128\n",
      "白长直雌\t 322 \t 26\n",
      "红小焦雄\t 235 \t 137\n",
      "红小焦雌\t 256 \t 39\n",
      "红小直雄\t 335 \t 154\n",
      "红小直雌\t 382 \t 104\n",
      "红长焦雄\t 94 \t 51\n",
      "红长焦雌\t 120 \t 89\n",
      "红长直雄\t 1461 \t 691\n",
      "红长直雌\t 1967 \t 2397\n"
     ]
    }
   ],
   "source": [
    "bin_list = list(product([0,1], repeat = 4))\n",
    "print(\"\\t orth\\t comp\")\n",
    "for bin in bin_list:\n",
    "    count_orth = count_comp = 0\n",
    "    for item in f2_data:\n",
    "        count_orth = count_orth + item.get_motify_specific_count([0,1,1,1,1],bin,\"orth\")\n",
    "        count_comp = count_comp + item.get_motify_specific_count([0,1,1,1,1],bin,\"comp\")\n",
    "    if bin[0] == 0:\n",
    "        print(\"白\", end = \"\")\n",
    "    else:\n",
    "        print(\"红\", end = \"\")\n",
    "    if bin[1] == 0:\n",
    "        print(\"小\", end = \"\")\n",
    "    else:\n",
    "        print(\"长\", end = \"\")\n",
    "    if bin[2] == 0:\n",
    "        print(\"焦\", end = \"\")\n",
    "    else:\n",
    "        print(\"直\", end = \"\")\n",
    "    if bin[3] == 0:\n",
    "        print(\"雄\", end = \"\")\n",
    "    else:\n",
    "        print(\"雌\", end = \"\")\n",
    "    print(\"\\t\",count_orth, \"\\t\", count_comp)\n"
   ]
  },
  {
   "cell_type": "markdown",
   "id": "a9d355c7f18e15f6",
   "metadata": {
    "collapsed": false
   },
   "source": [
    "# f2 正交 非交换类型\n",
    "# 白小焦雌, 红长直雌\n",
    "# 白小焦雄, 红长直雄\n",
    "f2_orth_white_short_curly_female = f2_orth_red_long_straight_female = 0\n",
    "f2_orth_white_short_curly_male = f2_orth_red_long_straight_male = 0\n",
    "\n",
    "for item in f2_data:\n",
    "    f2_orth_white_short_curly_female = f2_orth_white_short_curly_female + item.get_motify_specific_count([0,1,1,1,1], [0, 0, 0, 1], \"orth\")\n",
    "    f2_orth_red_long_straight_female = f2_orth_red_long_straight_female + item.get_motify_specific_count([0,1,1,1,1], [1, 1, 1, 1], \"orth\")\n",
    "    f2_orth_white_short_curly_male = f2_orth_white_short_curly_male + item.get_motify_specific_count([0,1,1,1,1], [0, 0, 0, 0], \"orth\")\n",
    "    f2_orth_red_long_straight_male = f2_orth_red_long_straight_male + item.get_motify_specific_count([0,1,1,1,1], [1, 1, 1, 0], \"orth\")\n",
    "    \n",
    "list_non_exchange_df = pd.DataFrame([\n",
    "    [f2_orth_white_short_curly_female, f2_orth_red_long_straight_female],\n",
    "    [f2_orth_white_short_curly_male, f2_orth_red_long_straight_male]\n",
    "], columns=[\"白小焦\", \"红长直\"], index=[\"雌\", \"雄\"])\n",
    "\n",
    "print(\"f2正交非交换类型数据：\")\n",
    "print(list_non_exchange_df)\n",
    "\n",
    "# f2 正交  单交换\n",
    "# 白长直雌, 红小焦雌, 红长焦雌, 白小直雌\n",
    "# 白长直雄, 红小焦雄, 红长焦雄, 白小直雄\n",
    "\n",
    "f2_orth_white_long_straight_female = f2_orth_red_short_curly_female = f2_orth_red_long_curly_female = f2_orth_white_short_straight_female = 0\n",
    "f2_orth_white_long_straight_male = f2_orth_red_short_curly_male = f2_orth_red_long_curly_male = f2_orth_white_short_straight_male = 0\n",
    "\n",
    "for item in f2_data:\n",
    "    f2_orth_white_long_straight_female =  f2_orth_white_long_straight_female + item.get_motify_specific_count([0,1,1,1,1], [0, 1, 1, 1], \"orth\")\n",
    "    f2_orth_red_short_curly_female = f2_orth_red_short_curly_female + item.get_motify_specific_count([0,1,1,1,1], [1, 0, 0, 1], \"orth\")\n",
    "    f2_orth_red_long_curly_female = f2_orth_red_long_curly_female + item.get_motify_specific_count([0,1,1,1,1], [1, 1, 0, 1], \"orth\")\n",
    "    f2_orth_white_short_straight_female =f2_orth_white_short_straight_female + item.get_motify_specific_count([0,1,1,1,1], [0, 0, 1, 1], \"orth\")\n",
    "    f2_orth_white_long_straight_male = f2_orth_white_long_straight_male + item.get_motify_specific_count([0,1,1,1,1], [0, 1, 1, 0], \"orth\")\n",
    "    f2_orth_red_short_curly_male = f2_orth_red_short_curly_male + item.get_motify_specific_count([0,1,1,1,1], [1, 0, 0, 0], \"orth\")\n",
    "    f2_orth_red_long_curly_male = f2_orth_red_long_curly_male + item.get_motify_specific_count([0,1,1,1,1], [1, 1, 0, 0], \"orth\")\n",
    "    f2_orth_white_short_straight_male = f2_orth_white_short_straight_male + item.get_motify_specific_count([0,1,1,1,1], [0, 0, 1, 0], \"orth\")\n",
    "    \n",
    "list_single_exchange_df = pd.DataFrame([\n",
    "    [f2_orth_white_long_straight_female, f2_orth_red_short_curly_female, f2_orth_red_long_curly_female, f2_orth_white_short_straight_female], \n",
    "    [f2_orth_white_long_straight_male, f2_orth_red_short_curly_male, f2_orth_red_long_curly_male, f2_orth_white_short_straight_male]\n",
    "])\n",
    "\n",
    "print(\"f2正交单交换类型数据：\")\n",
    "print(list_single_exchange_df)\n",
    "\n",
    "# f2 正交  双交换\n",
    "# 白长焦雌, 红短直雌,\n",
    "# 白长焦雄, 红短直雄,\n",
    "\n",
    "f2_orth_white_long_curly_female = f2_orth_red_short_straight_female = 0\n",
    "f2_orth_white_long_curly_male = f2_orth_red_short_straight_male = 0\n",
    "\n",
    "for item in f2_data:\n",
    "    f2_orth_white_long_curly_female = f2_orth_white_long_curly_female + item.get_motify_specific_count([0,1,1,1,1], [0, 1, 0, 1], \"orth\")\n",
    "    f2_orth_red_short_straight_female = f2_orth_red_short_straight_female + item.get_motify_specific_count([0,1,1,1,1], [1, 0, 1, 1], \"orth\")\n",
    "    f2_orth_white_long_curly_male = f2_orth_white_long_curly_male + item.get_motify_specific_count([0,1,1,1,1], [0, 1, 0, 0], \"orth\")\n",
    "    f2_orth_red_short_straight_male = f2_orth_red_short_straight_male + item.get_motify_specific_count([0,1,1,1,1], [1, 0, 1, 0], \"orth\")\n",
    "\n",
    "list_double_exchange_df = pd.DataFrame([\n",
    "    [f2_orth_white_long_curly_female, f2_orth_red_short_straight_female], \n",
    "    [f2_orth_white_long_curly_male, f2_orth_red_short_straight_male]\n",
    "])\n",
    "\n",
    "print(\"f2正交双交换类型数据：\")\n",
    "print(list_double_exchange_df)"
   ]
  },
  {
   "cell_type": "code",
   "execution_count": 13,
   "id": "2f7dd4cf25096ca6",
   "metadata": {
    "collapsed": false,
    "ExecuteTime": {
     "end_time": "2023-12-22T14:45:51.447327100Z",
     "start_time": "2023-12-22T14:45:51.360772Z"
    }
   },
   "outputs": [
    {
     "name": "stdout",
     "output_type": "stream",
     "text": [
      "1884\t\t506\t\t513\t\t185\t\t3088 \n",
      "\n",
      "46\t\t422\t\t36\t\t161\t\t665 \n",
      "\n",
      "13\t\t97\t\t13\t\t31\t\t154 \n",
      "\n",
      "21\t\t109\t\t18\t\t28\t\t176 \n",
      "\n",
      "70\t\t104\t\t34\t\t50\t\t258 \n",
      "\n",
      "35\t\t120\t\t7\t\t20\t\t182 \n",
      "\n",
      "65\t\t30\t\t24\t\t21\t\t140 \n",
      "\n",
      "12\t\t20\t\t12\t\t9\t\t53 \n"
     ]
    }
   ],
   "source": [
    "new_bin = [\n",
    "    [1, 1, 1], [0, 0, 0], [0, 1, 1], [1, 0, 0],\n",
    "    [1, 0, 1], [0, 1, 0], [1, 1, 0], [0, 0, 1],\n",
    "]\n",
    "all_list = []\n",
    "sum = 0\n",
    "for item in new_bin:\n",
    "    for color in [1,0]:\n",
    "        for sex in [1,0]:\n",
    "            new_list = item.copy()\n",
    "            new_list.insert(0, color)\n",
    "            new_list.append(sex)\n",
    "            all_list.append(new_list)\n",
    "i = 0\n",
    "for bin in all_list:\n",
    "    count = 0\n",
    "    for item in f2_data:\n",
    "        count = count + item.get_specific_count(bin,\"comp\")\n",
    "    i = i + 1\n",
    "    sum = sum + count\n",
    "    print(count, end=\"\\t\\t\")\n",
    "    if i % 4 == 0:\n",
    "        print(sum,\"\\n\")\n",
    "        sum = 0"
   ]
  }
 ],
 "metadata": {
  "kernelspec": {
   "display_name": "Python 3 (ipykernel)",
   "language": "python",
   "name": "python3"
  },
  "language_info": {
   "codemirror_mode": {
    "name": "ipython",
    "version": 3
   },
   "file_extension": ".py",
   "mimetype": "text/x-python",
   "name": "python",
   "nbconvert_exporter": "python",
   "pygments_lexer": "ipython3",
   "version": "3.8.18"
  }
 },
 "nbformat": 4,
 "nbformat_minor": 5
}
